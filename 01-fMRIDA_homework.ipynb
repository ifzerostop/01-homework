{
 "cells": [
  {
   "cell_type": "markdown",
   "metadata": {},
   "source": [
    "# Advanced fMRI data analysis \n",
    "## Homework for courses: \n",
    "- #1 Introduction\n",
    "- #2 Reproducible neuroimaging"
   ]
  },
  {
   "cell_type": "markdown",
   "metadata": {},
   "source": [
    "In this assignment, your task is to answer a few questions related to neuroimaging using Markdown.  \n",
    "\n",
    "You can choose to answer in Polish or English (it will not affect your grade).\n",
    "\n",
    "Write answers in your **own words**, as you would like to explain a friend (do not copy from Wikipedia!). \n",
    "\n",
    "Use Markdown formatting options as much as possible!\n",
    "\n",
    "\n",
    "**DEADLINE:** 20-03-2020\n",
    "\n",
    "\n",
    "--------------------\n"
   ]
  },
  {
   "cell_type": "markdown",
   "metadata": {},
   "source": [
    "**1. Explain in your *own words* how fMRI works (2-3 sentences).**"
   ]
  },
  {
   "cell_type": "markdown",
   "metadata": {},
   "source": [
    "**Funkcjonalny rezonans magnetyczny** obrazuje aktywność mózgu poprzez mierzenie sygnału *BOLT*,\n",
    "czyli utlenowanej krwi przepływającej przez aktywne obszary. Rezonans działa na zasadzie\n",
    "emitowania pola elektromagnetycznego, i odbierania sygnału zwrotnego w postaci energii p\n",
    "rotonów atomów wodoru z tkanek. Mamy możliwość rozróżniania tkanek wg ich własności,\n",
    "i tworzenia obrazu mózgu o wysokiej rozdzielczości.\n"
   ]
  },
  {
   "cell_type": "markdown",
   "metadata": {},
   "source": [
    "**2. Explain in your *own words* the term *BOLD signal* (2-3 sentences).**"
   ]
  },
  {
   "cell_type": "markdown",
   "metadata": {},
   "source": [
    "**Sygnał BOLT** to kontrast pomiędzy krwią utlenowaną a nieutlenowaną w mózgu.\n",
    "Obszary aktywniejsze neuronalnie mają większy pobór tlenu, a więc sygnał BOLT\n",
    "jest interpretowany jako zwiększona aktywność obszaru w danym czasie."
   ]
  },
  {
   "cell_type": "markdown",
   "metadata": {},
   "source": [
    "**3. Make a table (two columns) with advantages and disadvantages of fMRI.**"
   ]
  },
  {
   "cell_type": "markdown",
   "metadata": {},
   "source": [
    "*Zalety* | *Wady*\n",
    "-------|-------\n",
    "Wysoka rozdzielczość przestrzenna | Mała rozdzielczość czasowa\n",
    "Nieinwazyjna metoda | Sygnał mierzony jest pośrednio\n",
    "Dostęp do obszarów korowych jak i podkorowych | Opóźnienie hemodynamiczne\n",
    "Analiza funkcjonalna | Potrzeba dużej ilości obróbki danych"
   ]
  },
  {
   "cell_type": "markdown",
   "metadata": {},
   "source": [
    "**4. Explain in your *own words* what *reproducible research* is.**\n",
    "Highly recomended video: [From interactive exploration to reproducible data science](https://www.youtube.com/watch?v=xOKPKiAhey4).\n"
   ]
  },
  {
   "cell_type": "markdown",
   "metadata": {},
   "source": [
    "Replikowalne badanie to badanie, które powtórzone przy zachowaniu tych samych narzędzi\n",
    "i metodologii daje te same rezultaty. "
   ]
  },
  {
   "cell_type": "markdown",
   "metadata": {},
   "source": [
    "**5. Make a *list* with good neuroimaging research practices that improve reproducibility of results.**"
   ]
  },
  {
   "cell_type": "markdown",
   "metadata": {},
   "source": [
    "Aby zadbać o replikowalność badań zaleca się zadbać o:\n",
    "1. prerejestracje planów badań\n",
    "2. udostępnianie pełnych danych o narzędziach, procedurach i wynikach\n",
    "3. dbałość o wystarczającą moc statystyczną\n",
    "4. częstsze wykonywanie replikacji"
   ]
  },
  {
   "cell_type": "code",
   "execution_count": null,
   "metadata": {},
   "outputs": [],
   "source": []
  }
 ],
 "metadata": {
  "kernelspec": {
   "display_name": "Python 3",
   "language": "python",
   "name": "python3"
  },
  "language_info": {
   "codemirror_mode": {
    "name": "ipython",
    "version": 3
   },
   "file_extension": ".py",
   "mimetype": "text/x-python",
   "name": "python",
   "nbconvert_exporter": "python",
   "pygments_lexer": "ipython3",
   "version": "3.7.6"
  }
 },
 "nbformat": 4,
 "nbformat_minor": 4
}
